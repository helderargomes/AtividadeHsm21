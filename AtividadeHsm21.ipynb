{
  "nbformat": 4,
  "nbformat_minor": 0,
  "metadata": {
    "colab": {
      "provenance": [],
      "collapsed_sections": []
    },
    "kernelspec": {
      "name": "python3",
      "display_name": "Python 3"
    },
    "language_info": {
      "name": "python"
    }
  },
  "cells": [
    {
      "cell_type": "code",
      "execution_count": 55,
      "metadata": {
        "id": "4wpU24_q4cOC"
      },
      "outputs": [],
      "source": [
        "# Importando as bibliotecas\n",
        "import pandas as pd\n",
        "from sklearn.datasets import make_classification\n",
        "from sklearn.model_selection import train_test_split\n",
        "from sklearn.model_selection import KFold\n",
        "from imblearn.over_sampling import SMOTE"
      ]
    },
    {
      "cell_type": "code",
      "source": [
        "# Importando o dataset a partir da biblioteca datasets do scikit-learn\n",
        "caracteristicas,classe = make_classification(n_classes=2,class_sep=4,weights=[0.1,0.9])"
      ],
      "metadata": {
        "id": "umen4oXoGgX6"
      },
      "execution_count": 43,
      "outputs": []
    },
    {
      "cell_type": "code",
      "source": [
        "classe"
      ],
      "metadata": {
        "id": "VNevIQwsi769"
      },
      "execution_count": null,
      "outputs": []
    },
    {
      "cell_type": "code",
      "source": [
        "# Subdividindo os dados pelo método hold-out\n",
        "caracteristicas_train, caracteristicas_test= train_test_split(caracteristicas, test_size=0.25)"
      ],
      "metadata": {
        "id": "qKi4qJqJjMhy"
      },
      "execution_count": 49,
      "outputs": []
    },
    {
      "cell_type": "code",
      "source": [
        "# Subdividindo os dados pelo método hold-out\n",
        "classe_train, classe_test = train_test_split(classe, test_size=0.25)"
      ],
      "metadata": {
        "id": "2Gw6MEytjs6F"
      },
      "execution_count": 50,
      "outputs": []
    },
    {
      "cell_type": "code",
      "source": [
        "classe_test"
      ],
      "metadata": {
        "id": "THSuvXNIjsWO"
      },
      "execution_count": null,
      "outputs": []
    },
    {
      "cell_type": "code",
      "source": [
        "sm = SMOTE()"
      ],
      "metadata": {
        "id": "FDGiDnllkRP5"
      },
      "execution_count": 57,
      "outputs": []
    },
    {
      "cell_type": "code",
      "source": [
        "#Verificando o tamanho inicial da base de dados\n",
        "from typing import Counter\n",
        "print('Tamanho original da base de dados: %s' % Counter(classe))"
      ],
      "metadata": {
        "colab": {
          "base_uri": "https://localhost:8080/"
        },
        "id": "ouDpJBzJlsVq",
        "outputId": "04d1567c-94a3-4ed5-a74b-7212f26dc077"
      },
      "execution_count": 67,
      "outputs": [
        {
          "output_type": "stream",
          "name": "stdout",
          "text": [
            "Tamanho original da base de dados: Counter({1: 90, 0: 10})\n"
          ]
        }
      ]
    },
    {
      "cell_type": "code",
      "source": [
        "# Realizando o balanceamento com o SMOTE\n",
        "caracteristicas_balanceadas, classes_balanceadas = sm.fit_resample(caracteristicas,classe)"
      ],
      "metadata": {
        "id": "8Vq7TEvqjsIQ"
      },
      "execution_count": 68,
      "outputs": []
    },
    {
      "cell_type": "code",
      "source": [
        "# Verificando se o oversampling foi executado\n",
        "print('Tamanho da base de dados após o balanceamento: %s' % Counter(classes_balanceadas))"
      ],
      "metadata": {
        "colab": {
          "base_uri": "https://localhost:8080/"
        },
        "id": "Ut4LpRilmZ_R",
        "outputId": "83038feb-a08f-4147-bcd1-d67f8644c867"
      },
      "execution_count": 70,
      "outputs": [
        {
          "output_type": "stream",
          "name": "stdout",
          "text": [
            "Tamanho da base de dados após o balanceamento: Counter({1: 90, 0: 90})\n"
          ]
        }
      ]
    },
    {
      "cell_type": "code",
      "source": [
        "# Realizando a divisão da base de dados balanceada\n",
        "lasse_balanceada_train, classe_balanceada_test = train_test_split(classes_balanceadas, test_size=0.25)"
      ],
      "metadata": {
        "id": "-TELdPrInKYT"
      },
      "execution_count": 75,
      "outputs": []
    },
    {
      "cell_type": "code",
      "source": [
        "#Avaliando a nova base de treino após o balanceamento\n",
        "classe_balanceada_train"
      ],
      "metadata": {
        "id": "tB2owVjpnSup"
      },
      "execution_count": null,
      "outputs": []
    },
    {
      "cell_type": "code",
      "source": [
        "# Avaliando a nova base de teste após o balanceamento. Verifica-se que há uma mfrequência maior do valor 0 quando se compara com a base de teste inicial, sem o balanceamento.\n",
        "classe_balanceada_test"
      ],
      "metadata": {
        "id": "H6JL1CVonaF4"
      },
      "execution_count": null,
      "outputs": []
    }
  ]
}